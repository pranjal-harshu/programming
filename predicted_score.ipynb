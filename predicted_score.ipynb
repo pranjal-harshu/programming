{
  "nbformat": 4,
  "nbformat_minor": 0,
  "metadata": {
    "colab": {
      "name": "predicted_score.ipynb",
      "version": "0.3.2",
      "provenance": [],
      "collapsed_sections": [],
      "include_colab_link": true
    },
    "kernelspec": {
      "name": "python3",
      "display_name": "Python 3"
    }
  },
  "cells": [
    {
      "cell_type": "markdown",
      "metadata": {
        "id": "view-in-github",
        "colab_type": "text"
      },
      "source": [
        "<a href=\"https://colab.research.google.com/github/pranjal-harshu/programming/blob/master/predicted_score.ipynb\" target=\"_parent\"><img src=\"https://colab.research.google.com/assets/colab-badge.svg\" alt=\"Open In Colab\"/></a>"
      ]
    },
    {
      "cell_type": "code",
      "metadata": {
        "id": "Ca3i_ksFeo7O",
        "colab_type": "code",
        "colab": {
          "base_uri": "https://localhost:8080/",
          "height": 34
        },
        "outputId": "35355463-f64d-438b-e22d-332e47b3e988"
      },
      "source": [
        "from sklearn.linear_model import LinearRegression\n",
        "phy=[[15],[12],[8],[8],[7],[7],[7],[6],[5],[3]]\n",
        "His=[[10],[25],[17],[11],[13],[17],[20],[13],[9],[15]]\n",
        "a=LinearRegression()\n",
        "a.fit(phy,His)\n",
        "print(\"History predicted score is %.2f\"%a.predict([[10]]))"
      ],
      "execution_count": 1,
      "outputs": [
        {
          "output_type": "stream",
          "text": [
            "History predicted score is 15.46\n"
          ],
          "name": "stdout"
        }
      ]
    }
  ]
}