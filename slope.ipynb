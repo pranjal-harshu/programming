{
  "nbformat": 4,
  "nbformat_minor": 0,
  "metadata": {
    "colab": {
      "name": "slope.ipynb",
      "version": "0.3.2",
      "provenance": [],
      "collapsed_sections": [],
      "include_colab_link": true
    },
    "kernelspec": {
      "name": "python3",
      "display_name": "Python 3"
    }
  },
  "cells": [
    {
      "cell_type": "markdown",
      "metadata": {
        "id": "view-in-github",
        "colab_type": "text"
      },
      "source": [
        "<a href=\"https://colab.research.google.com/github/pranjal-harshu/programming/blob/master/slope.ipynb\" target=\"_parent\"><img src=\"https://colab.research.google.com/assets/colab-badge.svg\" alt=\"Open In Colab\"/></a>"
      ]
    },
    {
      "cell_type": "code",
      "metadata": {
        "id": "yL5VTsiYZ1yn",
        "colab_type": "code",
        "colab": {
          "base_uri": "https://localhost:8080/",
          "height": 34
        },
        "outputId": "80b06293-73ff-4fc9-e3fe-303cf2dba988"
      },
      "source": [
        "import numpy as np\n",
        "phy=[15,12,8,8,7,7,7,6,5,3]\n",
        "His=[10,25,17,11,13,17,20,13,9,15]\n",
        "std1 = np.std(phy)\n",
        "std2 = np.std(His)\n",
        "cov  = np.cov(phy,His,bias=True)[0][1]\n",
        "r    = cov/(std1*std2)\n",
        "slope= (r*std2)/std1\n",
        "print(\"%.3f\" % slope)"
      ],
      "execution_count": 4,
      "outputs": [
        {
          "output_type": "stream",
          "text": [
            "0.208\n"
          ],
          "name": "stdout"
        }
      ]
    }
  ]
}