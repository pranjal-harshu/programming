{
  "nbformat": 4,
  "nbformat_minor": 0,
  "metadata": {
    "colab": {
      "name": "pearson.ipynb",
      "version": "0.3.2",
      "provenance": [],
      "collapsed_sections": [],
      "include_colab_link": true
    },
    "kernelspec": {
      "name": "python3",
      "display_name": "Python 3"
    }
  },
  "cells": [
    {
      "cell_type": "markdown",
      "metadata": {
        "id": "view-in-github",
        "colab_type": "text"
      },
      "source": [
        "<a href=\"https://colab.research.google.com/github/pranjal-harshu/programming/blob/master/pearson.ipynb\" target=\"_parent\"><img src=\"https://colab.research.google.com/assets/colab-badge.svg\" alt=\"Open In Colab\"/></a>"
      ]
    },
    {
      "cell_type": "code",
      "metadata": {
        "id": "1za3_3iIFTLt",
        "colab_type": "code",
        "colab": {
          "base_uri": "https://localhost:8080/",
          "height": 34
        },
        "outputId": "625ca9ed-8512-4869-ef95-b5ceb13c20c5"
      },
      "source": [
        "import numpy as np\n",
        "phy=[[15],[12],[8],[8],[7],[7],[7],[6],[5],[3]]\n",
        "His=[[10],[25],[17],[11],[13],[17],[20],[13],[9],[15]]\n",
        "a=np.std(phy)\n",
        "b=np.std(His)\n",
        "phy=[15,12,8,8,7,7,7,6,5,3]\n",
        "His=[10,25,17,11,13,17,20,13,9,15]\n",
        "c=np.cov(phy,His,bias=True)[0][1]\n",
        "r=c/(a*b)\n",
        "print(r)"
      ],
      "execution_count": 2,
      "outputs": [
        {
          "output_type": "stream",
          "text": [
            "0.1449981545806852\n"
          ],
          "name": "stdout"
        }
      ]
    }
  ]
}